{
  "nbformat": 4,
  "nbformat_minor": 0,
  "metadata": {
    "colab": {
      "name": "Visualização de Dados com Pandas.ipynb",
      "provenance": [],
      "collapsed_sections": [],
      "include_colab_link": true
    },
    "kernelspec": {
      "name": "python3",
      "display_name": "Python 3"
    }
  },
  "cells": [
    {
      "cell_type": "markdown",
      "metadata": {
        "id": "view-in-github",
        "colab_type": "text"
      },
      "source": [
        "<a href=\"https://colab.research.google.com/github/rodrigoreisbr-tech/data_science/blob/master/Visualiza%C3%A7%C3%A3o_de_Dados_com_Pandas.ipynb\" target=\"_parent\"><img src=\"https://colab.research.google.com/assets/colab-badge.svg\" alt=\"Open In Colab\"/></a>"
      ]
    },
    {
      "cell_type": "markdown",
      "metadata": {
        "id": "vvplGyW2N3rX",
        "colab_type": "text"
      },
      "source": [
        "# Visualização de Dados com Pandas\n",
        "\n"
      ]
    },
    {
      "cell_type": "code",
      "metadata": {
        "id": "z2RlG83ekNgO",
        "colab_type": "code",
        "outputId": "2a7a8aa2-20af-4395-f417-5c725f5227c2",
        "colab": {
          "base_uri": "https://localhost:8080/",
          "height": 225
        }
      },
      "source": [
        "# importar pandas\n",
        "import pandas as pd\n",
        "\n",
        "# importar o arquivo csv para o Pandas\n",
        "df = pd.read_csv(\"https://raw.githubusercontent.com/rodrigoreisbr-tech/data_science/master/dataset/BVSP.csv\")\n",
        "\n",
        "df.Date = pd.to_datetime(df.Date)\n",
        "\n",
        "# o index se tornou um datetime\n",
        "df.set_index('Date', inplace= True)\n",
        "\n",
        "# ver as primeiras entradas\n",
        "df.head()"
      ],
      "execution_count": 1,
      "outputs": [
        {
          "output_type": "execute_result",
          "data": {
            "text/html": [
              "<div>\n",
              "<style scoped>\n",
              "    .dataframe tbody tr th:only-of-type {\n",
              "        vertical-align: middle;\n",
              "    }\n",
              "\n",
              "    .dataframe tbody tr th {\n",
              "        vertical-align: top;\n",
              "    }\n",
              "\n",
              "    .dataframe thead th {\n",
              "        text-align: right;\n",
              "    }\n",
              "</style>\n",
              "<table border=\"1\" class=\"dataframe\">\n",
              "  <thead>\n",
              "    <tr style=\"text-align: right;\">\n",
              "      <th></th>\n",
              "      <th>Open</th>\n",
              "      <th>High</th>\n",
              "      <th>Low</th>\n",
              "      <th>Close</th>\n",
              "      <th>Adj Close</th>\n",
              "      <th>Volume</th>\n",
              "    </tr>\n",
              "    <tr>\n",
              "      <th>Date</th>\n",
              "      <th></th>\n",
              "      <th></th>\n",
              "      <th></th>\n",
              "      <th></th>\n",
              "      <th></th>\n",
              "      <th></th>\n",
              "    </tr>\n",
              "  </thead>\n",
              "  <tbody>\n",
              "    <tr>\n",
              "      <th>2019-06-10</th>\n",
              "      <td>97828.0</td>\n",
              "      <td>97856.0</td>\n",
              "      <td>96782.0</td>\n",
              "      <td>97467.0</td>\n",
              "      <td>97467.0</td>\n",
              "      <td>3584000.0</td>\n",
              "    </tr>\n",
              "    <tr>\n",
              "      <th>2019-06-11</th>\n",
              "      <td>97467.0</td>\n",
              "      <td>98985.0</td>\n",
              "      <td>97467.0</td>\n",
              "      <td>98960.0</td>\n",
              "      <td>98960.0</td>\n",
              "      <td>4922400.0</td>\n",
              "    </tr>\n",
              "    <tr>\n",
              "      <th>2019-06-12</th>\n",
              "      <td>98960.0</td>\n",
              "      <td>99240.0</td>\n",
              "      <td>97831.0</td>\n",
              "      <td>98321.0</td>\n",
              "      <td>98321.0</td>\n",
              "      <td>4948800.0</td>\n",
              "    </tr>\n",
              "    <tr>\n",
              "      <th>2019-06-13</th>\n",
              "      <td>98321.0</td>\n",
              "      <td>99364.0</td>\n",
              "      <td>98321.0</td>\n",
              "      <td>98774.0</td>\n",
              "      <td>98774.0</td>\n",
              "      <td>5594000.0</td>\n",
              "    </tr>\n",
              "    <tr>\n",
              "      <th>2019-06-14</th>\n",
              "      <td>98776.0</td>\n",
              "      <td>98981.0</td>\n",
              "      <td>97601.0</td>\n",
              "      <td>98040.0</td>\n",
              "      <td>98040.0</td>\n",
              "      <td>9184900.0</td>\n",
              "    </tr>\n",
              "  </tbody>\n",
              "</table>\n",
              "</div>"
            ],
            "text/plain": [
              "               Open     High      Low    Close  Adj Close     Volume\n",
              "Date                                                                \n",
              "2019-06-10  97828.0  97856.0  96782.0  97467.0    97467.0  3584000.0\n",
              "2019-06-11  97467.0  98985.0  97467.0  98960.0    98960.0  4922400.0\n",
              "2019-06-12  98960.0  99240.0  97831.0  98321.0    98321.0  4948800.0\n",
              "2019-06-13  98321.0  99364.0  98321.0  98774.0    98774.0  5594000.0\n",
              "2019-06-14  98776.0  98981.0  97601.0  98040.0    98040.0  9184900.0"
            ]
          },
          "metadata": {
            "tags": []
          },
          "execution_count": 1
        }
      ]
    },
    {
      "cell_type": "markdown",
      "metadata": {
        "id": "QgGsz5Zqo1BO",
        "colab_type": "text"
      },
      "source": [
        "## Gráfico de Linhas\n",
        "\n",
        "Vamos supor que você quisesse visualizar como foram as máximas das ações do Banco do Brasil.\n",
        "\n",
        "Vimos lá atrás que é possível selecionar apenas uma coluna de um *DataFrame*. Neste exemplo, vou selecionar a variável `High` usando `df['High']'.\n",
        "\n",
        "Em seguida, a unica coisa que eu faço é executar o método `plot()`"
      ]
    },
    {
      "cell_type": "code",
      "metadata": {
        "id": "NL_s3octmF1U",
        "colab_type": "code",
        "outputId": "994efdae-921a-4c6b-adda-d9d330606e21",
        "colab": {
          "base_uri": "https://localhost:8080/",
          "height": 277
        }
      },
      "source": [
        "df.High.plot();"
      ],
      "execution_count": 0,
      "outputs": [
        {
          "output_type": "display_data",
          "data": {
            "image/png": "[encoded data removed]",
            "text/plain": [
              "<Figure size 432x288 with 1 Axes>"
            ]
          },
          "metadata": {
            "tags": [],
            "needs_background": "light"
          }
        }
      ]
    },
    {
      "cell_type": "markdown",
      "metadata": {
        "id": "UkXp_fRgqjiS",
        "colab_type": "text"
      },
      "source": [
        "## Histograma\n",
        "\n",
        "Quando se quer ter uma noção de quantas vezes uma determinada informação aparece no conjunto de dados, plotar o histograma pode ser de grande valor.\n",
        "\n",
        "Histogramas são uma das principais ferramentas da estatística para extrair informações sobre frequencia e distribuição dos nossos dados. Ele é conceitualmente bem simples. Se você nunca teve contato com esse tipo de gráfico, recomendo assistir a [este vídeo da Khan Academy](https://www.youtube.com/watch?v=L0f8d3B8dk4).\n",
        "\n",
        "Vamos plotar o histograma do volume movimentado para as ações do BBAS3."
      ]
    },
    {
      "cell_type": "code",
      "metadata": {
        "id": "qDQLDEjEmf2q",
        "colab_type": "code",
        "outputId": "fdb419d0-7eda-49d2-9170-0e3a317c6479",
        "colab": {
          "base_uri": "https://localhost:8080/",
          "height": 278
        }
      },
      "source": [
        "# plotar histograma do volume\n",
        "df.Volume.hist();"
      ],
      "execution_count": 0,
      "outputs": [
        {
          "output_type": "display_data",
          "data": {
            "image/png": "[encoded data removed]",
            "text/plain": [
              "<Figure size 432x288 with 1 Axes>"
            ]
          },
          "metadata": {
            "tags": [],
            "needs_background": "light"
          }
        }
      ]
    },
    {
      "cell_type": "markdown",
      "metadata": {
        "id": "EiUdSrcaqgLq",
        "colab_type": "text"
      },
      "source": [
        "## Gráfico de Dispersão (*Scatter Plot*)\n",
        "\n",
        "O gráfico de dispersão é um gráfico ideal para ver a correlação entre duas variáveis quaisquer.\n",
        "\n",
        "Serve não apenas para mostrar quanto uma variável é afetada por outra, mas também para plotar coordenadas geográficas para ter um *awareness* (como foi feito no projeto do Módulo 1).\n",
        "\n",
        "Como não faz sentido com os dados do Ibov, vou trabalhar com outro *dataset*. Vamos usar dados de consumo de cerveja em uma região universitária da cidade de São Paulo.\n",
        "\n",
        "Para mais informações sobre os dados, acesse [este link](https://www.kaggle.com/dongeorge/beer-consumption-sao-paulo)."
      ]
    },
    {
      "cell_type": "code",
      "metadata": {
        "id": "zI75SRm-smMe",
        "colab_type": "code",
        "outputId": "850ae8f1-b891-4258-d0f6-80ce5a23680d",
        "colab": {
          "base_uri": "https://localhost:8080/",
          "height": 195
        }
      },
      "source": [
        "# importar dados de consumo de cerveja\n",
        "df_cerveja = pd.read_csv(\"https://raw.githubusercontent.com/rodrigoreisbr-tech/data_science/master/dataset/consumo_cerj.csv\")\n",
        "# ver as 5 primeiras entradas\n",
        "df_cerveja.head()"
      ],
      "execution_count": 10,
      "outputs": [
        {
          "output_type": "execute_result",
          "data": {
            "text/html": [
              "<div>\n",
              "<style scoped>\n",
              "    .dataframe tbody tr th:only-of-type {\n",
              "        vertical-align: middle;\n",
              "    }\n",
              "\n",
              "    .dataframe tbody tr th {\n",
              "        vertical-align: top;\n",
              "    }\n",
              "\n",
              "    .dataframe thead th {\n",
              "        text-align: right;\n",
              "    }\n",
              "</style>\n",
              "<table border=\"1\" class=\"dataframe\">\n",
              "  <thead>\n",
              "    <tr style=\"text-align: right;\">\n",
              "      <th></th>\n",
              "      <th>data</th>\n",
              "      <th>media</th>\n",
              "      <th>minima</th>\n",
              "      <th>maxima</th>\n",
              "      <th>precipitacao</th>\n",
              "      <th>fds</th>\n",
              "      <th>consumo</th>\n",
              "    </tr>\n",
              "  </thead>\n",
              "  <tbody>\n",
              "    <tr>\n",
              "      <th>0</th>\n",
              "      <td>2015-01-01</td>\n",
              "      <td>27.30</td>\n",
              "      <td>23.9</td>\n",
              "      <td>32.5</td>\n",
              "      <td>0.0</td>\n",
              "      <td>0.0</td>\n",
              "      <td>25.461</td>\n",
              "    </tr>\n",
              "    <tr>\n",
              "      <th>1</th>\n",
              "      <td>2015-01-02</td>\n",
              "      <td>27.02</td>\n",
              "      <td>24.5</td>\n",
              "      <td>33.5</td>\n",
              "      <td>0.0</td>\n",
              "      <td>0.0</td>\n",
              "      <td>28.972</td>\n",
              "    </tr>\n",
              "    <tr>\n",
              "      <th>2</th>\n",
              "      <td>2015-01-03</td>\n",
              "      <td>24.82</td>\n",
              "      <td>22.4</td>\n",
              "      <td>29.9</td>\n",
              "      <td>0.0</td>\n",
              "      <td>1.0</td>\n",
              "      <td>30.814</td>\n",
              "    </tr>\n",
              "    <tr>\n",
              "      <th>3</th>\n",
              "      <td>2015-01-04</td>\n",
              "      <td>23.98</td>\n",
              "      <td>21.5</td>\n",
              "      <td>28.6</td>\n",
              "      <td>1.2</td>\n",
              "      <td>1.0</td>\n",
              "      <td>29.799</td>\n",
              "    </tr>\n",
              "    <tr>\n",
              "      <th>4</th>\n",
              "      <td>2015-01-05</td>\n",
              "      <td>23.82</td>\n",
              "      <td>21.0</td>\n",
              "      <td>28.3</td>\n",
              "      <td>0.0</td>\n",
              "      <td>0.0</td>\n",
              "      <td>28.900</td>\n",
              "    </tr>\n",
              "  </tbody>\n",
              "</table>\n",
              "</div>"
            ],
            "text/plain": [
              "         data  media  minima  maxima  precipitacao  fds  consumo\n",
              "0  2015-01-01  27.30    23.9    32.5           0.0  0.0   25.461\n",
              "1  2015-01-02  27.02    24.5    33.5           0.0  0.0   28.972\n",
              "2  2015-01-03  24.82    22.4    29.9           0.0  1.0   30.814\n",
              "3  2015-01-04  23.98    21.5    28.6           1.2  1.0   29.799\n",
              "4  2015-01-05  23.82    21.0    28.3           0.0  0.0   28.900"
            ]
          },
          "metadata": {
            "tags": []
          },
          "execution_count": 10
        }
      ]
    },
    {
      "cell_type": "code",
      "metadata": {
        "id": "p06D99BmjljD",
        "colab_type": "code",
        "outputId": "708cfeb1-500a-4f76-ad79-e83256921aff",
        "colab": {
          "base_uri": "https://localhost:8080/",
          "height": 296
        }
      },
      "source": [
        "# plotar um gráfico de dispersão\n",
        "df_cerveja.plot.scatter('media', 'consumo')"
      ],
      "execution_count": 11,
      "outputs": [
        {
          "output_type": "execute_result",
          "data": {
            "text/plain": [
              "<matplotlib.axes._subplots.AxesSubplot at 0x7f2324b1dda0>"
            ]
          },
          "metadata": {
            "tags": []
          },
          "execution_count": 11
        },
        {
          "output_type": "display_data",
          "data": {
            "image/png": "[encoded data removed]",
            "text/plain": [
              "<Figure size 432x288 with 1 Axes>"
            ]
          },
          "metadata": {
            "tags": [],
            "needs_background": "light"
          }
        }
      ]
    },
    {
      "cell_type": "markdown",
      "metadata": {
        "id": "vx7UylHTnwjC",
        "colab_type": "text"
      },
      "source": [
        "*Os dados usados acima não são os originais, sofreram um processo rápido de limpeza. Caso você queira veer como foi feito, acesse a célula de código abaixo.*"
      ]
    },
    {
      "cell_type": "code",
      "metadata": {
        "id": "2hDq2mn_n7ZY",
        "colab_type": "code",
        "cellView": "both",
        "colab": {}
      },
      "source": [
        "#@title\n",
        "# importar dados original de consumo de cerveja \n",
        "df_cerveja_original = pd.read_csv(\"https://raw.githubusercontent.com/rodrigoreisbr-tech/data_science/master/dataset/consumo_cerveja_original.csv\")\n",
        "df_cerveja_original.dropna(inplace=True)\n",
        "\n",
        "# trocar nomes das colunas\n",
        "df_cerveja_original.columns= ['data', 'media', 'minima', 'maxima','precipitacao', 'fds', 'consumo']\n",
        "\n",
        "df_cerveja_original.media = df_cerveja_original.media.apply(lambda x: float(x.replace(\",\", \".\")))\n",
        "df_cerveja_original.minima = df_cerveja_original.minima.apply(lambda x: float(x.replace(\",\", \".\")))\n",
        "df_cerveja_original.maxima = df_cerveja_original.maxima.apply(lambda x: float(x.replace(\",\", \".\")))\n",
        "df_cerveja_original.precipitacao = df_cerveja_original.precipitacao.apply(lambda x: float(x.replace(\",\", \".\")))\n",
        "\n",
        "# exportar para csv\n",
        "df_cerveja_original.to_csv('consumo_cerveja.csv', index=False)"
      ],
      "execution_count": 0,
      "outputs": []
    },
    {
      "cell_type": "markdown",
      "metadata": {
        "id": "kfYfXZuMsoAk",
        "colab_type": "text"
      },
      "source": [
        "## Boxplot\n",
        "\n",
        "Boxplot é um dos tipos de gráficos que conseguem fornecer o maior número de informações estatísticas de uma vez só.\n",
        "\n",
        "<center><img src=\"https://pro.arcgis.com/en/pro-app/help/analysis/geoprocessing/charts/GUID-0E2C3730-C535-40CD-8152-80D794A996A7-web.png\" height=\"200px\"></center>\n",
        "\n",
        "É possível ter em uma imagem os valores máximos, mínimos, quartis e mediana. *Outliers* também são representados como pontos acima do valor máximo ou abaixo do valor mínimo"
      ]
    },
    {
      "cell_type": "code",
      "metadata": {
        "id": "rB3noktZnRTR",
        "colab_type": "code",
        "outputId": "25f4b360-49d6-466a-8d90-133ab52984cd",
        "colab": {
          "base_uri": "https://localhost:8080/",
          "height": 282
        }
      },
      "source": [
        "# plotar o boxplot para os valores máximos de consumo de cerveja\n",
        "df_cerveja.consumo.plot(kind=\"box\")"
      ],
      "execution_count": 13,
      "outputs": [
        {
          "output_type": "execute_result",
          "data": {
            "text/plain": [
              "<matplotlib.axes._subplots.AxesSubplot at 0x7f2322271748>"
            ]
          },
          "metadata": {
            "tags": []
          },
          "execution_count": 13
        },
        {
          "output_type": "display_data",
          "data": {
            "image/png": "[encoded data removed]",
            "text/plain": [
              "<Figure size 432x288 with 1 Axes>"
            ]
          },
          "metadata": {
            "tags": [],
            "needs_background": "light"
          }
        }
      ]
    },
    {
      "cell_type": "code",
      "metadata": {
        "id": "71yeEn7nY_AT",
        "colab_type": "code",
        "outputId": "8306b913-f09a-4c33-8b01-999685d3eb30",
        "colab": {
          "base_uri": "https://localhost:8080/",
          "height": 282
        }
      },
      "source": [
        "# plotar o boxplot para os valores máximos da ação\n",
        "df.High.plot(kind=\"box\")"
      ],
      "execution_count": 14,
      "outputs": [
        {
          "output_type": "execute_result",
          "data": {
            "text/plain": [
              "<matplotlib.axes._subplots.AxesSubplot at 0x7f2321da8cf8>"
            ]
          },
          "metadata": {
            "tags": []
          },
          "execution_count": 14
        },
        {
          "output_type": "display_data",
          "data": {
            "image/png": "[encoded data removed]",
            "text/plain": [
              "<Figure size 432x288 with 1 Axes>"
            ]
          },
          "metadata": {
            "tags": [],
            "needs_background": "light"
          }
        }
      ]
    },
    {
      "cell_type": "code",
      "metadata": {
        "id": "n7o207a0pMTg",
        "colab_type": "code",
        "colab": {}
      },
      "source": [
        ""
      ],
      "execution_count": 0,
      "outputs": []
    }
  ]
}