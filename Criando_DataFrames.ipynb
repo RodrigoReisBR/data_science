{
  "nbformat": 4,
  "nbformat_minor": 0,
  "metadata": {
    "colab": {
      "name": "Criando DataFrames.ipynb",
      "provenance": [],
      "collapsed_sections": [],
      "include_colab_link": true
    },
    "kernelspec": {
      "name": "python3",
      "display_name": "Python 3"
    }
  },
  "cells": [
    {
      "cell_type": "markdown",
      "metadata": {
        "id": "view-in-github",
        "colab_type": "text"
      },
      "source": [
        "<a href=\"https://colab.research.google.com/github/rodrigoreisbr-tech/data_science/blob/master/Criando_DataFrames.ipynb\" target=\"_parent\"><img src=\"https://colab.research.google.com/assets/colab-badge.svg\" alt=\"Open In Colab\"/></a>"
      ]
    },
    {
      "cell_type": "markdown",
      "metadata": {
        "id": "vvplGyW2N3rX",
        "colab_type": "text"
      },
      "source": [
        "---\n",
        "\n",
        "# Criando DataFrames\n",
        "\n",
        "No *notebook* anterior, importamos diretamente um arquivo `csv` da internet para uma estrutura *DataFrame*. Quando usamos a função `pd.read('arquivo.csv')` o Pandas já entendendo como deve agir em relação à estrutura de linhas e colunas.\n",
        "\n",
        "No entanto, existe a possibilidade de criarmos na mão um *DataFrame* usando diversas técnicas."
      ]
    },
    {
      "cell_type": "markdown",
      "metadata": {
        "id": "ug5l9vrTrsap",
        "colab_type": "text"
      },
      "source": [
        "## DataFrames a partir de Dicionários\n",
        "\n",
        "Uma das estruturas básicas do Python é o Dicionário. É muito conveniente informarmos nossos dados em uma variável do tipo `dict`, pois sua conversão em *DataFrame* é muito simples e direta."
      ]
    },
    {
      "cell_type": "code",
      "metadata": {
        "id": "bg1TtdzXAIzi",
        "colab_type": "code",
        "colab": {}
      },
      "source": [
        "# importar pandas\n",
        "import pandas as pd"
      ],
      "execution_count": 0,
      "outputs": []
    },
    {
      "cell_type": "code",
      "metadata": {
        "id": "c_0eor9vtkYm",
        "colab_type": "code",
        "colab": {}
      },
      "source": [
        "# criar dicionário\n",
        "dados = {\n",
        "    'nome': ['Rodrigo', 'Fernando', 'Diego', 'Gabriel'],\n",
        "    'idade': [30, 32, 16, 49],\n",
        "    'cidade': ['São Paulo', 'Belém', 'Natal', 'Curitiba'],\n",
        "    'comprou': [True, False, False, True]\n",
        "}"
      ],
      "execution_count": 0,
      "outputs": []
    },
    {
      "cell_type": "code",
      "metadata": {
        "id": "-K51-hGnAPBg",
        "colab_type": "code",
        "colab": {}
      },
      "source": [
        "# criar DataFrame\n",
        "df = pd.DataFrame(dados)"
      ],
      "execution_count": 0,
      "outputs": []
    },
    {
      "cell_type": "code",
      "metadata": {
        "id": "tcrpgd-XAR6b",
        "colab_type": "code",
        "outputId": "278b985d-9881-4173-fa71-75665aeabfec",
        "colab": {
          "base_uri": "https://localhost:8080/",
          "height": 175
        }
      },
      "source": [
        "# visualizar DataFrame\n",
        "df"
      ],
      "execution_count": 31,
      "outputs": [
        {
          "output_type": "execute_result",
          "data": {
            "text/html": [
              "<div>\n",
              "<style scoped>\n",
              "    .dataframe tbody tr th:only-of-type {\n",
              "        vertical-align: middle;\n",
              "    }\n",
              "\n",
              "    .dataframe tbody tr th {\n",
              "        vertical-align: top;\n",
              "    }\n",
              "\n",
              "    .dataframe thead th {\n",
              "        text-align: right;\n",
              "    }\n",
              "</style>\n",
              "<table border=\"1\" class=\"dataframe\">\n",
              "  <thead>\n",
              "    <tr style=\"text-align: right;\">\n",
              "      <th></th>\n",
              "      <th>nome</th>\n",
              "      <th>idade</th>\n",
              "      <th>cidade</th>\n",
              "      <th>comprou</th>\n",
              "    </tr>\n",
              "  </thead>\n",
              "  <tbody>\n",
              "    <tr>\n",
              "      <th>0</th>\n",
              "      <td>Rodrigo</td>\n",
              "      <td>30</td>\n",
              "      <td>São Paulo</td>\n",
              "      <td>True</td>\n",
              "    </tr>\n",
              "    <tr>\n",
              "      <th>1</th>\n",
              "      <td>Fernando</td>\n",
              "      <td>32</td>\n",
              "      <td>Belém</td>\n",
              "      <td>False</td>\n",
              "    </tr>\n",
              "    <tr>\n",
              "      <th>2</th>\n",
              "      <td>Diego</td>\n",
              "      <td>16</td>\n",
              "      <td>Natal</td>\n",
              "      <td>False</td>\n",
              "    </tr>\n",
              "    <tr>\n",
              "      <th>3</th>\n",
              "      <td>Gabriel</td>\n",
              "      <td>49</td>\n",
              "      <td>Curitiba</td>\n",
              "      <td>True</td>\n",
              "    </tr>\n",
              "  </tbody>\n",
              "</table>\n",
              "</div>"
            ],
            "text/plain": [
              "       nome  idade     cidade  comprou\n",
              "0   Rodrigo     30  São Paulo     True\n",
              "1  Fernando     32      Belém    False\n",
              "2     Diego     16      Natal    False\n",
              "3   Gabriel     49   Curitiba     True"
            ]
          },
          "metadata": {
            "tags": []
          },
          "execution_count": 31
        }
      ]
    },
    {
      "cell_type": "code",
      "metadata": {
        "id": "5zg1mzDUAbAG",
        "colab_type": "code",
        "colab": {}
      },
      "source": [
        "# criar id do usuário\n",
        "id_usuario = [8712, 5831, 4421, 9873]"
      ],
      "execution_count": 0,
      "outputs": []
    },
    {
      "cell_type": "code",
      "metadata": {
        "id": "N443WKTvAp3G",
        "colab_type": "code",
        "colab": {}
      },
      "source": [
        "# associar o id do usuário à lista\n",
        "df.index = id_usuario"
      ],
      "execution_count": 0,
      "outputs": []
    },
    {
      "cell_type": "code",
      "metadata": {
        "id": "A6Fhe-svAucS",
        "colab_type": "code",
        "outputId": "1e23b9dc-0bd8-4bab-a8c8-e6c10d310d76",
        "colab": {
          "base_uri": "https://localhost:8080/",
          "height": 175
        }
      },
      "source": [
        "# ver o dataframe\n",
        "df"
      ],
      "execution_count": 34,
      "outputs": [
        {
          "output_type": "execute_result",
          "data": {
            "text/html": [
              "<div>\n",
              "<style scoped>\n",
              "    .dataframe tbody tr th:only-of-type {\n",
              "        vertical-align: middle;\n",
              "    }\n",
              "\n",
              "    .dataframe tbody tr th {\n",
              "        vertical-align: top;\n",
              "    }\n",
              "\n",
              "    .dataframe thead th {\n",
              "        text-align: right;\n",
              "    }\n",
              "</style>\n",
              "<table border=\"1\" class=\"dataframe\">\n",
              "  <thead>\n",
              "    <tr style=\"text-align: right;\">\n",
              "      <th></th>\n",
              "      <th>nome</th>\n",
              "      <th>idade</th>\n",
              "      <th>cidade</th>\n",
              "      <th>comprou</th>\n",
              "    </tr>\n",
              "  </thead>\n",
              "  <tbody>\n",
              "    <tr>\n",
              "      <th>8712</th>\n",
              "      <td>Rodrigo</td>\n",
              "      <td>30</td>\n",
              "      <td>São Paulo</td>\n",
              "      <td>True</td>\n",
              "    </tr>\n",
              "    <tr>\n",
              "      <th>5831</th>\n",
              "      <td>Fernando</td>\n",
              "      <td>32</td>\n",
              "      <td>Belém</td>\n",
              "      <td>False</td>\n",
              "    </tr>\n",
              "    <tr>\n",
              "      <th>4421</th>\n",
              "      <td>Diego</td>\n",
              "      <td>16</td>\n",
              "      <td>Natal</td>\n",
              "      <td>False</td>\n",
              "    </tr>\n",
              "    <tr>\n",
              "      <th>9873</th>\n",
              "      <td>Gabriel</td>\n",
              "      <td>49</td>\n",
              "      <td>Curitiba</td>\n",
              "      <td>True</td>\n",
              "    </tr>\n",
              "  </tbody>\n",
              "</table>\n",
              "</div>"
            ],
            "text/plain": [
              "          nome  idade     cidade  comprou\n",
              "8712   Rodrigo     30  São Paulo     True\n",
              "5831  Fernando     32      Belém    False\n",
              "4421     Diego     16      Natal    False\n",
              "9873   Gabriel     49   Curitiba     True"
            ]
          },
          "metadata": {
            "tags": []
          },
          "execution_count": 34
        }
      ]
    },
    {
      "cell_type": "code",
      "metadata": {
        "id": "nO6t1Z6wvkMz",
        "colab_type": "code",
        "colab": {
          "base_uri": "https://localhost:8080/",
          "height": 108
        },
        "outputId": "65d82daf-a2e3-4af8-ff68-b8ad153b4f20"
      },
      "source": [
        "# selecionar pelo index\n",
        "df.loc[8712]"
      ],
      "execution_count": 35,
      "outputs": [
        {
          "output_type": "execute_result",
          "data": {
            "text/plain": [
              "nome         Rodrigo\n",
              "idade             30\n",
              "cidade     São Paulo\n",
              "comprou         True\n",
              "Name: 8712, dtype: object"
            ]
          },
          "metadata": {
            "tags": []
          },
          "execution_count": 35
        }
      ]
    },
    {
      "cell_type": "markdown",
      "metadata": {
        "id": "Vy7_qfLMuhZE",
        "colab_type": "text"
      },
      "source": [
        "## DataFrames a partir de Listas\n",
        "\n",
        "Listas também são estruturas muito usadas em Python, e não é incomum termos que criar *DataFrames*  a partir destas.\n",
        "\n",
        "Para organizar nossas várias listas de um modo que seja fácil sia conversão em *DataFrame*, vou usar a função *built-in* `zip()`."
      ]
    },
    {
      "cell_type": "code",
      "metadata": {
        "id": "szoV_HzFvgDf",
        "colab_type": "code",
        "outputId": "4b472206-a2bc-4d07-8704-24d5ee1b0beb",
        "colab": {
          "base_uri": "https://localhost:8080/",
          "height": 175
        }
      },
      "source": [
        "# listas\n",
        "dados_lista = [['Carlos', 35, 'Araraquara', 'True'],\n",
        "         ['Theo', 32, 'Natal', 'False'],\n",
        "         ['Raquel', 12, 'SJC', 'True'],\n",
        "         ['Fernanda', 14, 'Brasilia', 'True']]\n",
        "\n",
        "# criar DataFrame\n",
        "df = pd.DataFrame(dados_lista, columns=['nome', 'idade', 'cidade', 'comprou'],\n",
        "                  index=[124, 543, 999, 214])\n",
        "\n",
        "# visualizar DataFrame\n",
        "df"
      ],
      "execution_count": 36,
      "outputs": [
        {
          "output_type": "execute_result",
          "data": {
            "text/html": [
              "<div>\n",
              "<style scoped>\n",
              "    .dataframe tbody tr th:only-of-type {\n",
              "        vertical-align: middle;\n",
              "    }\n",
              "\n",
              "    .dataframe tbody tr th {\n",
              "        vertical-align: top;\n",
              "    }\n",
              "\n",
              "    .dataframe thead th {\n",
              "        text-align: right;\n",
              "    }\n",
              "</style>\n",
              "<table border=\"1\" class=\"dataframe\">\n",
              "  <thead>\n",
              "    <tr style=\"text-align: right;\">\n",
              "      <th></th>\n",
              "      <th>nome</th>\n",
              "      <th>idade</th>\n",
              "      <th>cidade</th>\n",
              "      <th>comprou</th>\n",
              "    </tr>\n",
              "  </thead>\n",
              "  <tbody>\n",
              "    <tr>\n",
              "      <th>124</th>\n",
              "      <td>Carlos</td>\n",
              "      <td>35</td>\n",
              "      <td>Araraquara</td>\n",
              "      <td>True</td>\n",
              "    </tr>\n",
              "    <tr>\n",
              "      <th>543</th>\n",
              "      <td>Theo</td>\n",
              "      <td>32</td>\n",
              "      <td>Natal</td>\n",
              "      <td>False</td>\n",
              "    </tr>\n",
              "    <tr>\n",
              "      <th>999</th>\n",
              "      <td>Raquel</td>\n",
              "      <td>12</td>\n",
              "      <td>SJC</td>\n",
              "      <td>True</td>\n",
              "    </tr>\n",
              "    <tr>\n",
              "      <th>214</th>\n",
              "      <td>Fernanda</td>\n",
              "      <td>14</td>\n",
              "      <td>Brasilia</td>\n",
              "      <td>True</td>\n",
              "    </tr>\n",
              "  </tbody>\n",
              "</table>\n",
              "</div>"
            ],
            "text/plain": [
              "         nome  idade      cidade comprou\n",
              "124    Carlos     35  Araraquara    True\n",
              "543      Theo     32       Natal   False\n",
              "999    Raquel     12         SJC    True\n",
              "214  Fernanda     14    Brasilia    True"
            ]
          },
          "metadata": {
            "tags": []
          },
          "execution_count": 36
        }
      ]
    },
    {
      "cell_type": "code",
      "metadata": {
        "id": "-gr98OrxB3zW",
        "colab_type": "code",
        "outputId": "791414dc-ff1f-4c8d-f47c-56b57ffcaa0d",
        "colab": {
          "base_uri": "https://localhost:8080/",
          "height": 108
        }
      },
      "source": [
        "# selecionar pelo index\n",
        "df.loc[124]"
      ],
      "execution_count": 37,
      "outputs": [
        {
          "output_type": "execute_result",
          "data": {
            "text/plain": [
              "nome           Carlos\n",
              "idade              35\n",
              "cidade     Araraquara\n",
              "comprou          True\n",
              "Name: 124, dtype: object"
            ]
          },
          "metadata": {
            "tags": []
          },
          "execution_count": 37
        }
      ]
    },
    {
      "cell_type": "markdown",
      "metadata": {
        "id": "qtoPc3X40Bal",
        "colab_type": "text"
      },
      "source": [
        "## Criar novas colunas\n",
        "\n",
        "Uma maneira extremamente conveniente de criar novas colunas em um *DataFrame* é usar uma funcionalidade do Pandas conhecida como *broadcasting*.\n",
        "\n",
        "Informanda o nome da nova coluna e declarando apenas um valor, este é replicado para todas as linhas do *DataFrame*"
      ]
    },
    {
      "cell_type": "code",
      "metadata": {
        "id": "wfw9Ojec1ED3",
        "colab_type": "code",
        "outputId": "f36bdfd8-a1eb-429a-aa7b-144dab897cd0",
        "colab": {
          "base_uri": "https://localhost:8080/",
          "height": 175
        }
      },
      "source": [
        "# criar coluna \"saldo\"\n",
        "df['saldo'] = [8.0,85.6,456.01,87.90]\n",
        "\n",
        "# criar com valor defualt\n",
        "df['saldo_d1'] = 0.0\n",
        "\n",
        "# visualizar DataFrame\n",
        "df"
      ],
      "execution_count": 43,
      "outputs": [
        {
          "output_type": "execute_result",
          "data": {
            "text/html": [
              "<div>\n",
              "<style scoped>\n",
              "    .dataframe tbody tr th:only-of-type {\n",
              "        vertical-align: middle;\n",
              "    }\n",
              "\n",
              "    .dataframe tbody tr th {\n",
              "        vertical-align: top;\n",
              "    }\n",
              "\n",
              "    .dataframe thead th {\n",
              "        text-align: right;\n",
              "    }\n",
              "</style>\n",
              "<table border=\"1\" class=\"dataframe\">\n",
              "  <thead>\n",
              "    <tr style=\"text-align: right;\">\n",
              "      <th></th>\n",
              "      <th>nome</th>\n",
              "      <th>idade</th>\n",
              "      <th>cidade</th>\n",
              "      <th>comprou</th>\n",
              "      <th>saldo</th>\n",
              "      <th>saldo_d1</th>\n",
              "    </tr>\n",
              "  </thead>\n",
              "  <tbody>\n",
              "    <tr>\n",
              "      <th>124</th>\n",
              "      <td>Carlos</td>\n",
              "      <td>35</td>\n",
              "      <td>Araraquara</td>\n",
              "      <td>True</td>\n",
              "      <td>8.00</td>\n",
              "      <td>0.0</td>\n",
              "    </tr>\n",
              "    <tr>\n",
              "      <th>543</th>\n",
              "      <td>Theo</td>\n",
              "      <td>32</td>\n",
              "      <td>Natal</td>\n",
              "      <td>False</td>\n",
              "      <td>85.60</td>\n",
              "      <td>0.0</td>\n",
              "    </tr>\n",
              "    <tr>\n",
              "      <th>999</th>\n",
              "      <td>Raquel</td>\n",
              "      <td>12</td>\n",
              "      <td>SJC</td>\n",
              "      <td>True</td>\n",
              "      <td>456.01</td>\n",
              "      <td>0.0</td>\n",
              "    </tr>\n",
              "    <tr>\n",
              "      <th>214</th>\n",
              "      <td>Fernanda</td>\n",
              "      <td>14</td>\n",
              "      <td>Brasilia</td>\n",
              "      <td>True</td>\n",
              "      <td>87.90</td>\n",
              "      <td>0.0</td>\n",
              "    </tr>\n",
              "  </tbody>\n",
              "</table>\n",
              "</div>"
            ],
            "text/plain": [
              "         nome  idade      cidade comprou   saldo  saldo_d1\n",
              "124    Carlos     35  Araraquara    True    8.00       0.0\n",
              "543      Theo     32       Natal   False   85.60       0.0\n",
              "999    Raquel     12         SJC    True  456.01       0.0\n",
              "214  Fernanda     14    Brasilia    True   87.90       0.0"
            ]
          },
          "metadata": {
            "tags": []
          },
          "execution_count": 43
        }
      ]
    },
    {
      "cell_type": "markdown",
      "metadata": {
        "id": "nmYdZtGu1NZL",
        "colab_type": "text"
      },
      "source": [
        "## Modificar *index* e colunas\n",
        "\n",
        "Às vezes, precisamos alterar o nome dos índices ou o *label* das colunas. Se você olhar na célula acima, veja que na esquerda do *DataFrame* o index de cada linha é representado por um número entre 0 e 3.\n",
        "\n",
        "É possível alterar esse atributo da variável acessando diretamente assim:"
      ]
    },
    {
      "cell_type": "code",
      "metadata": {
        "id": "tiGByguXlPUc",
        "colab_type": "code",
        "outputId": "2e54eb1d-8c0d-4b3d-ef40-5b1dd18af157",
        "colab": {
          "base_uri": "https://localhost:8080/",
          "height": 35
        }
      },
      "source": [
        "df.index"
      ],
      "execution_count": 44,
      "outputs": [
        {
          "output_type": "execute_result",
          "data": {
            "text/plain": [
              "Int64Index([124, 543, 999, 214], dtype='int64')"
            ]
          },
          "metadata": {
            "tags": []
          },
          "execution_count": 44
        }
      ]
    },
    {
      "cell_type": "code",
      "metadata": {
        "id": "I-x7DIoU2I56",
        "colab_type": "code",
        "outputId": "28ff0fd1-74f7-4a69-807e-c70868f942db",
        "colab": {
          "base_uri": "https://localhost:8080/",
          "height": 175
        }
      },
      "source": [
        "# alterar o index do df\n",
        "df.index = ['colA', 'colB', 'colC', 'colD']\n",
        "\n",
        "# visualizar DataFrame\n",
        "df"
      ],
      "execution_count": 45,
      "outputs": [
        {
          "output_type": "execute_result",
          "data": {
            "text/html": [
              "<div>\n",
              "<style scoped>\n",
              "    .dataframe tbody tr th:only-of-type {\n",
              "        vertical-align: middle;\n",
              "    }\n",
              "\n",
              "    .dataframe tbody tr th {\n",
              "        vertical-align: top;\n",
              "    }\n",
              "\n",
              "    .dataframe thead th {\n",
              "        text-align: right;\n",
              "    }\n",
              "</style>\n",
              "<table border=\"1\" class=\"dataframe\">\n",
              "  <thead>\n",
              "    <tr style=\"text-align: right;\">\n",
              "      <th></th>\n",
              "      <th>nome</th>\n",
              "      <th>idade</th>\n",
              "      <th>cidade</th>\n",
              "      <th>comprou</th>\n",
              "      <th>saldo</th>\n",
              "      <th>saldo_d1</th>\n",
              "    </tr>\n",
              "  </thead>\n",
              "  <tbody>\n",
              "    <tr>\n",
              "      <th>colA</th>\n",
              "      <td>Carlos</td>\n",
              "      <td>35</td>\n",
              "      <td>Araraquara</td>\n",
              "      <td>True</td>\n",
              "      <td>8.00</td>\n",
              "      <td>0.0</td>\n",
              "    </tr>\n",
              "    <tr>\n",
              "      <th>colB</th>\n",
              "      <td>Theo</td>\n",
              "      <td>32</td>\n",
              "      <td>Natal</td>\n",
              "      <td>False</td>\n",
              "      <td>85.60</td>\n",
              "      <td>0.0</td>\n",
              "    </tr>\n",
              "    <tr>\n",
              "      <th>colC</th>\n",
              "      <td>Raquel</td>\n",
              "      <td>12</td>\n",
              "      <td>SJC</td>\n",
              "      <td>True</td>\n",
              "      <td>456.01</td>\n",
              "      <td>0.0</td>\n",
              "    </tr>\n",
              "    <tr>\n",
              "      <th>colD</th>\n",
              "      <td>Fernanda</td>\n",
              "      <td>14</td>\n",
              "      <td>Brasilia</td>\n",
              "      <td>True</td>\n",
              "      <td>87.90</td>\n",
              "      <td>0.0</td>\n",
              "    </tr>\n",
              "  </tbody>\n",
              "</table>\n",
              "</div>"
            ],
            "text/plain": [
              "          nome  idade      cidade comprou   saldo  saldo_d1\n",
              "colA    Carlos     35  Araraquara    True    8.00       0.0\n",
              "colB      Theo     32       Natal   False   85.60       0.0\n",
              "colC    Raquel     12         SJC    True  456.01       0.0\n",
              "colD  Fernanda     14    Brasilia    True   87.90       0.0"
            ]
          },
          "metadata": {
            "tags": []
          },
          "execution_count": 45
        }
      ]
    },
    {
      "cell_type": "markdown",
      "metadata": {
        "id": "nraFA_Zw2SKT",
        "colab_type": "text"
      },
      "source": [
        "Da mesma maneira, se eu precisar alterar o nome das colunas, posso alterar diretamente no atributo da variável:"
      ]
    },
    {
      "cell_type": "code",
      "metadata": {
        "id": "9cZdwkoq2aPG",
        "colab_type": "code",
        "outputId": "b849c2d0-f0df-4ea8-81c7-b4d4bcae539e",
        "colab": {
          "base_uri": "https://localhost:8080/",
          "height": 175
        }
      },
      "source": [
        "# alterar os labels das colunas\n",
        "df.columns = ['Nome do Cliente', \"Idade\", \"Naturalidade\", \"Fez Compras?\", \"Saldo na Loja\", \"Saldo D-1\"]\n",
        "\n",
        "# visualizar DataFrame\n",
        "df"
      ],
      "execution_count": 47,
      "outputs": [
        {
          "output_type": "execute_result",
          "data": {
            "text/html": [
              "<div>\n",
              "<style scoped>\n",
              "    .dataframe tbody tr th:only-of-type {\n",
              "        vertical-align: middle;\n",
              "    }\n",
              "\n",
              "    .dataframe tbody tr th {\n",
              "        vertical-align: top;\n",
              "    }\n",
              "\n",
              "    .dataframe thead th {\n",
              "        text-align: right;\n",
              "    }\n",
              "</style>\n",
              "<table border=\"1\" class=\"dataframe\">\n",
              "  <thead>\n",
              "    <tr style=\"text-align: right;\">\n",
              "      <th></th>\n",
              "      <th>Nome do Cliente</th>\n",
              "      <th>Idade</th>\n",
              "      <th>Naturalidade</th>\n",
              "      <th>Fez Compras?</th>\n",
              "      <th>Saldo na Loja</th>\n",
              "      <th>Saldo D-1</th>\n",
              "    </tr>\n",
              "  </thead>\n",
              "  <tbody>\n",
              "    <tr>\n",
              "      <th>colA</th>\n",
              "      <td>Carlos</td>\n",
              "      <td>35</td>\n",
              "      <td>Araraquara</td>\n",
              "      <td>True</td>\n",
              "      <td>8.00</td>\n",
              "      <td>0.0</td>\n",
              "    </tr>\n",
              "    <tr>\n",
              "      <th>colB</th>\n",
              "      <td>Theo</td>\n",
              "      <td>32</td>\n",
              "      <td>Natal</td>\n",
              "      <td>False</td>\n",
              "      <td>85.60</td>\n",
              "      <td>0.0</td>\n",
              "    </tr>\n",
              "    <tr>\n",
              "      <th>colC</th>\n",
              "      <td>Raquel</td>\n",
              "      <td>12</td>\n",
              "      <td>SJC</td>\n",
              "      <td>True</td>\n",
              "      <td>456.01</td>\n",
              "      <td>0.0</td>\n",
              "    </tr>\n",
              "    <tr>\n",
              "      <th>colD</th>\n",
              "      <td>Fernanda</td>\n",
              "      <td>14</td>\n",
              "      <td>Brasilia</td>\n",
              "      <td>True</td>\n",
              "      <td>87.90</td>\n",
              "      <td>0.0</td>\n",
              "    </tr>\n",
              "  </tbody>\n",
              "</table>\n",
              "</div>"
            ],
            "text/plain": [
              "     Nome do Cliente  Idade Naturalidade Fez Compras?  Saldo na Loja  Saldo D-1\n",
              "colA          Carlos     35   Araraquara         True           8.00        0.0\n",
              "colB            Theo     32        Natal        False          85.60        0.0\n",
              "colC          Raquel     12          SJC         True         456.01        0.0\n",
              "colD        Fernanda     14     Brasilia         True          87.90        0.0"
            ]
          },
          "metadata": {
            "tags": []
          },
          "execution_count": 47
        }
      ]
    }
  ]
}