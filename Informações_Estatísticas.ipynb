{
  "nbformat": 4,
  "nbformat_minor": 0,
  "metadata": {
    "colab": {
      "name": "Informações Estatísticas.ipynb",
      "provenance": [],
      "collapsed_sections": [],
      "toc_visible": true,
      "include_colab_link": true
    },
    "kernelspec": {
      "name": "python3",
      "display_name": "Python 3"
    }
  },
  "cells": [
    {
      "cell_type": "markdown",
      "metadata": {
        "id": "view-in-github",
        "colab_type": "text"
      },
      "source": [
        "<a href=\"https://colab.research.google.com/github/rodrigoreisbr-tech/data_science/blob/master/Informa%C3%A7%C3%B5es_Estat%C3%ADsticas.ipynb\" target=\"_parent\"><img src=\"https://colab.research.google.com/assets/colab-badge.svg\" alt=\"Open In Colab\"/></a>"
      ]
    },
    {
      "cell_type": "markdown",
      "metadata": {
        "id": "vvplGyW2N3rX",
        "colab_type": "text"
      },
      "source": [
        "\n",
        "# Informações Estatísticas com Pandas\n",
        "\n",
        "Como cientista de dados, você vai ter que mergulhar cada vez mais no campo da Estatística.\n",
        "\n",
        "Por trás das nossas análises e modelos de *machine learning*, estão pilares baseados na teoria da matemática e estatística. Você não precisa conhecer todos, porém é obrigatório dominar os conceitos dos principais.\n",
        "\n",
        "A estatística revela muitas coisas imediatamente, validando ou descartando hipóteses logo na fase inicial de um projeto de *Data Science*.\n",
        "\n",
        "<center><img src=\"http://maisbikecompartilhada.com.br/img/logo_bike.png\"></center>\n",
        "\n",
        "Para conhecer algumas das principais funções do Pandas, vou utilizar o *dataset* do projeto **[+BIKE](http://maisbikecompartilhada.com.br)**, que distribui bicicletas em pontos estratégicos de Brasília-DF, oferecendo uma solução de transporte que contribui com a mobilidade das pessoas na capital.\n",
        "\n",
        "Caso deseje conhecer a base de dados original, basta acessar [este link](https://www.kaggle.com/joseguilhermelopes/bike-sharing-system-in-brasilia-brazil/downloads/bike-sharing-system-in-brasilia-brazil.zip/1#df_rides.csv)."
      ]
    },
    {
      "cell_type": "markdown",
      "metadata": {
        "id": "dypbeLinOCvq",
        "colab_type": "text"
      },
      "source": [
        "Conectando o Google Drive para acessar o dataset"
      ]
    },
    {
      "cell_type": "code",
      "metadata": {
        "id": "7xRiPrzoNUlx",
        "colab_type": "code",
        "colab": {
          "base_uri": "https://localhost:8080/",
          "height": 128
        },
        "outputId": "ad553d63-f4d0-482a-a83e-3c6594ba3268"
      },
      "source": [
        "from google.colab import drive\n",
        "drive.mount('/content/drive')"
      ],
      "execution_count": 1,
      "outputs": [
        {
          "output_type": "stream",
          "text": [
            "Go to this URL in a browser: https://accounts.google.com/o/oauth2/auth?client_id=947318989803-6bn6qk8qdgf4n4g3pfee6491hc0brc4i.apps.googleusercontent.com&redirect_uri=urn%3aietf%3awg%3aoauth%3a2.0%3aoob&response_type=code&scope=email%20https%3a%2f%2fwww.googleapis.com%2fauth%2fdocs.test%20https%3a%2f%2fwww.googleapis.com%2fauth%2fdrive%20https%3a%2f%2fwww.googleapis.com%2fauth%2fdrive.photos.readonly%20https%3a%2f%2fwww.googleapis.com%2fauth%2fpeopleapi.readonly\n",
            "\n",
            "Enter your authorization code:\n",
            "··········\n",
            "Mounted at /content/drive\n"
          ],
          "name": "stdout"
        }
      ]
    },
    {
      "cell_type": "code",
      "metadata": {
        "id": "xJ9l8HMwNm-3",
        "colab_type": "code",
        "colab": {}
      },
      "source": [
        "# importar os pacotes necessários\n",
        "import pandas as pd\n",
        "\n",
        "# importar o dataset\n",
        "df = pd.read_csv(\"/content/drive/My Drive/Colab Notebooks/dataset/df_rides.csv\")\n",
        "\n"
      ],
      "execution_count": 0,
      "outputs": []
    },
    {
      "cell_type": "code",
      "metadata": {
        "id": "w7RRdNxc6H9e",
        "colab_type": "code",
        "outputId": "ed802b73-6bb1-4ad3-93cc-6e7be80742c8",
        "colab": {
          "base_uri": "https://localhost:8080/",
          "height": 328
        }
      },
      "source": [
        "# ver as 5 primeiras entradas\n",
        "df.head()"
      ],
      "execution_count": 8,
      "outputs": [
        {
          "output_type": "execute_result",
          "data": {
            "text/html": [
              "<div>\n",
              "<style scoped>\n",
              "    .dataframe tbody tr th:only-of-type {\n",
              "        vertical-align: middle;\n",
              "    }\n",
              "\n",
              "    .dataframe tbody tr th {\n",
              "        vertical-align: top;\n",
              "    }\n",
              "\n",
              "    .dataframe thead th {\n",
              "        text-align: right;\n",
              "    }\n",
              "</style>\n",
              "<table border=\"1\" class=\"dataframe\">\n",
              "  <thead>\n",
              "    <tr style=\"text-align: right;\">\n",
              "      <th></th>\n",
              "      <th>user_gender</th>\n",
              "      <th>user_birthdate</th>\n",
              "      <th>user_residence</th>\n",
              "      <th>ride_date</th>\n",
              "      <th>time_start</th>\n",
              "      <th>time_end</th>\n",
              "      <th>station_start</th>\n",
              "      <th>station_end</th>\n",
              "      <th>ride_duration</th>\n",
              "      <th>ride_late</th>\n",
              "    </tr>\n",
              "  </thead>\n",
              "  <tbody>\n",
              "    <tr>\n",
              "      <th>0</th>\n",
              "      <td>M</td>\n",
              "      <td>1971-06-08</td>\n",
              "      <td>NaN</td>\n",
              "      <td>2018-01-01</td>\n",
              "      <td>06:05:18</td>\n",
              "      <td>06:21:33</td>\n",
              "      <td>11 - Rodoviária 2</td>\n",
              "      <td>41 - Instituto de Artes</td>\n",
              "      <td>16.250000</td>\n",
              "      <td>0.0</td>\n",
              "    </tr>\n",
              "    <tr>\n",
              "      <th>1</th>\n",
              "      <td>M</td>\n",
              "      <td>1989-02-11</td>\n",
              "      <td>DF</td>\n",
              "      <td>2018-01-01</td>\n",
              "      <td>06:27:01</td>\n",
              "      <td>06:32:17</td>\n",
              "      <td>26 - Ministério da Saude</td>\n",
              "      <td>28 - CNMP - Conselho Nacional do Ministério Pú...</td>\n",
              "      <td>5.266667</td>\n",
              "      <td>0.0</td>\n",
              "    </tr>\n",
              "    <tr>\n",
              "      <th>2</th>\n",
              "      <td>M</td>\n",
              "      <td>1968-07-19</td>\n",
              "      <td>NaN</td>\n",
              "      <td>2018-01-01</td>\n",
              "      <td>06:29:33</td>\n",
              "      <td>06:44:57</td>\n",
              "      <td>11 - Rodoviária 2</td>\n",
              "      <td>43 - Biblioteca Central</td>\n",
              "      <td>15.400000</td>\n",
              "      <td>0.0</td>\n",
              "    </tr>\n",
              "    <tr>\n",
              "      <th>3</th>\n",
              "      <td>M</td>\n",
              "      <td>1991-12-19</td>\n",
              "      <td>NaN</td>\n",
              "      <td>2018-01-01</td>\n",
              "      <td>06:53:53</td>\n",
              "      <td>06:59:45</td>\n",
              "      <td>10 - Ministério dos Transportes</td>\n",
              "      <td>6 - Rodoviária</td>\n",
              "      <td>5.866667</td>\n",
              "      <td>0.0</td>\n",
              "    </tr>\n",
              "    <tr>\n",
              "      <th>4</th>\n",
              "      <td>M</td>\n",
              "      <td>1969-03-03</td>\n",
              "      <td>DF</td>\n",
              "      <td>2018-01-01</td>\n",
              "      <td>06:58:56</td>\n",
              "      <td>17:40:04</td>\n",
              "      <td>15 - Brasil 21</td>\n",
              "      <td>11 - Rodoviária 2</td>\n",
              "      <td>641.133333</td>\n",
              "      <td>1.0</td>\n",
              "    </tr>\n",
              "  </tbody>\n",
              "</table>\n",
              "</div>"
            ],
            "text/plain": [
              "  user_gender user_birthdate  ... ride_duration ride_late\n",
              "0           M     1971-06-08  ...     16.250000       0.0\n",
              "1           M     1989-02-11  ...      5.266667       0.0\n",
              "2           M     1968-07-19  ...     15.400000       0.0\n",
              "3           M     1991-12-19  ...      5.866667       0.0\n",
              "4           M     1969-03-03  ...    641.133333       1.0\n",
              "\n",
              "[5 rows x 10 columns]"
            ]
          },
          "metadata": {
            "tags": []
          },
          "execution_count": 8
        }
      ]
    },
    {
      "cell_type": "markdown",
      "metadata": {
        "id": "74FaQTkf6MLe",
        "colab_type": "text"
      },
      "source": [
        "## Resumo das informações estatísticas\n",
        "\n",
        "Uma das maneiras mais simples de se iniciar uma análise exploratória das variáveis numéricas é utilizando o método `describe()`.\n",
        "\n",
        "Imediatamente você obtém um resumo contendo algumas das principais informações estatísticas relevantes:\n",
        "\n",
        "* **count** - quantidade de entradas válidas\n",
        "* **mean** - média dos valores\n",
        "* **std** - desvio padrão\n",
        "* **min** - menor valor da coluna\n",
        "* **25%** - percentil 25\n",
        "* **50%** - percentil 50 (e mediana)\n",
        "* **75%** - percentil 75\n",
        "* **max** - maior valor da coluna\n",
        "\n",
        "É possível identificar de cara colunas com valores ausentes e possíveis *outliers* (por exemplo, olhando o valor da mediana e comparando com valores máximos e mínimos)"
      ]
    },
    {
      "cell_type": "code",
      "metadata": {
        "id": "_vgNRUd-EaGg",
        "colab_type": "code",
        "outputId": "fe0838b7-d092-48bd-c07e-d541ddaa401d",
        "colab": {
          "base_uri": "https://localhost:8080/",
          "height": 300
        }
      },
      "source": [
        "df.describe()"
      ],
      "execution_count": 9,
      "outputs": [
        {
          "output_type": "execute_result",
          "data": {
            "text/html": [
              "<div>\n",
              "<style scoped>\n",
              "    .dataframe tbody tr th:only-of-type {\n",
              "        vertical-align: middle;\n",
              "    }\n",
              "\n",
              "    .dataframe tbody tr th {\n",
              "        vertical-align: top;\n",
              "    }\n",
              "\n",
              "    .dataframe thead th {\n",
              "        text-align: right;\n",
              "    }\n",
              "</style>\n",
              "<table border=\"1\" class=\"dataframe\">\n",
              "  <thead>\n",
              "    <tr style=\"text-align: right;\">\n",
              "      <th></th>\n",
              "      <th>ride_duration</th>\n",
              "      <th>ride_late</th>\n",
              "    </tr>\n",
              "  </thead>\n",
              "  <tbody>\n",
              "    <tr>\n",
              "      <th>count</th>\n",
              "      <td>214148.000000</td>\n",
              "      <td>214148.000000</td>\n",
              "    </tr>\n",
              "    <tr>\n",
              "      <th>mean</th>\n",
              "      <td>29.915932</td>\n",
              "      <td>0.098829</td>\n",
              "    </tr>\n",
              "    <tr>\n",
              "      <th>std</th>\n",
              "      <td>58.857297</td>\n",
              "      <td>0.298433</td>\n",
              "    </tr>\n",
              "    <tr>\n",
              "      <th>min</th>\n",
              "      <td>3.000000</td>\n",
              "      <td>0.000000</td>\n",
              "    </tr>\n",
              "    <tr>\n",
              "      <th>25%</th>\n",
              "      <td>8.083333</td>\n",
              "      <td>0.000000</td>\n",
              "    </tr>\n",
              "    <tr>\n",
              "      <th>50%</th>\n",
              "      <td>14.200000</td>\n",
              "      <td>0.000000</td>\n",
              "    </tr>\n",
              "    <tr>\n",
              "      <th>75%</th>\n",
              "      <td>33.766667</td>\n",
              "      <td>0.000000</td>\n",
              "    </tr>\n",
              "    <tr>\n",
              "      <th>max</th>\n",
              "      <td>999.600000</td>\n",
              "      <td>1.000000</td>\n",
              "    </tr>\n",
              "  </tbody>\n",
              "</table>\n",
              "</div>"
            ],
            "text/plain": [
              "       ride_duration      ride_late\n",
              "count  214148.000000  214148.000000\n",
              "mean       29.915932       0.098829\n",
              "std        58.857297       0.298433\n",
              "min         3.000000       0.000000\n",
              "25%         8.083333       0.000000\n",
              "50%        14.200000       0.000000\n",
              "75%        33.766667       0.000000\n",
              "max       999.600000       1.000000"
            ]
          },
          "metadata": {
            "tags": []
          },
          "execution_count": 9
        }
      ]
    },
    {
      "cell_type": "markdown",
      "metadata": {
        "id": "DlbwG1eBEbqc",
        "colab_type": "text"
      },
      "source": [
        "## Média\n",
        "\n",
        "Se quisermos obter a média de alguma variável numéricas, basta executar o método `mean()` na *Series*. Ou seja, basta selecionar aquele coluna em especial e executar `mean()`."
      ]
    },
    {
      "cell_type": "code",
      "metadata": {
        "id": "Ni2O8xcAS3WG",
        "colab_type": "code",
        "outputId": "5f7c4434-33fc-4aa0-c4c9-e8d522f75c18",
        "colab": {
          "base_uri": "https://localhost:8080/",
          "height": 35
        }
      },
      "source": [
        "# ver a média da coluna ride_duration\n",
        "df.ride_duration.mean()"
      ],
      "execution_count": 12,
      "outputs": [
        {
          "output_type": "execute_result",
          "data": {
            "text/plain": [
              "29.915931894453134"
            ]
          },
          "metadata": {
            "tags": []
          },
          "execution_count": 12
        }
      ]
    },
    {
      "cell_type": "markdown",
      "metadata": {
        "id": "buHHXMruXF1o",
        "colab_type": "text"
      },
      "source": [
        "## Mediana\n",
        "\n",
        "Mediana é o valor que separa a metade maior e a metade menor de um conjunto de dados. Por exemplo, considere o conjunto `meus_dados = [1,1,2,4,9]`.\n",
        "\n",
        "O valor que \"está no meio\" é o número 2. Não confunda com a média, que é a soma de todos os valores dividido pela sua quantidade."
      ]
    },
    {
      "cell_type": "code",
      "metadata": {
        "id": "uUhrR0dsXxuE",
        "colab_type": "code",
        "outputId": "1cf5aa90-a3b2-4922-92cf-0dcc4a092741",
        "colab": {
          "base_uri": "https://localhost:8080/",
          "height": 35
        }
      },
      "source": [
        "# calcular a mediana\n",
        "dados = pd.Series([1,2,4,5,6,9,1325])\n",
        "\n",
        "dados\n",
        "\n",
        "df.ride_duration.median()"
      ],
      "execution_count": 17,
      "outputs": [
        {
          "output_type": "execute_result",
          "data": {
            "text/plain": [
              "14.2"
            ]
          },
          "metadata": {
            "tags": []
          },
          "execution_count": 17
        }
      ]
    },
    {
      "cell_type": "markdown",
      "metadata": {
        "id": "h9FWsm5DS-Pa",
        "colab_type": "text"
      },
      "source": [
        "## Desvio Padrão\n",
        "\n",
        "Desvio padrão é uma medida de dispersão em torno da média populacional de uma variável.\n",
        "\n",
        "$$SD = \\sqrt{\\frac{1}{n}\\sum_{i=1}^{n}(x_i - \\overline{x}) ^ 2}$$\n",
        "\n",
        "Falando simplificadamente, um número alto do desvio padrão indica que os dados estão bem espelhados em relação à sua média. Já um desvio padrão baixo mostra que os valores estão mais agrupados, mais \"juntos\".\n",
        "\n",
        "Por exemplo, na figura abaixo temos um exemplo de valores altos e baixos para o desvio padrão. Em vermelho os dados estão mais próximos à sua média, e em azul estão bem mais espalhados.\n",
        "\n",
        "<center><img src=\"https://upload.wikimedia.org/wikipedia/commons/thumb/f/f9/Comparison_standard_deviations.svg/400px-Comparison_standard_deviations.svg.png\"></center>\n",
        "\n",
        "Para quem não está acostumado com gráficos de distribuições, um exemplo que funciona muito bem é o do tiro ao alvo.\n",
        "\n",
        "Olhe na figura abaixo como os tiros estão localizados em cada uma das situações. Identifique mentalmente quais tem maior ou menor dispersão, ou seja, desvio padrão.\n",
        "\n",
        "<center><img src=\"https://raw.githubusercontent.com/carlosfab/dsnp2/master/img/precisao_exatidao.jpg\" height=\"250px\"></center>\n",
        "\n",
        "O conceito que eu quero que você se atente é o achatamento da curva. Como os valores se \"aglomeram\" em torno da média ou se dispersam em torno dela. Veja também mais essa outra figura abaixo, colocando as distribuições lado a lado.\n",
        "\n",
        "<center><img src=\"https://raw.githubusercontent.com/carlosfab/dsnp2/master/img/precisao_vs_exatidao2.jpg\" height=\"200px\"></center>\n",
        "\n",
        "Para calcular o desvio padrão de qualquer coluna, basta executar o método `std()` para a variável."
      ]
    },
    {
      "cell_type": "code",
      "metadata": {
        "id": "yhxZYdXNTcG4",
        "colab_type": "code",
        "outputId": "4f1b7d70-9ffb-4224-e161-c9198c24be63",
        "colab": {
          "base_uri": "https://localhost:8080/",
          "height": 35
        }
      },
      "source": [
        "# calcular o desvio padrão para ride_calculation\n",
        "df.ride_duration.std()"
      ],
      "execution_count": 18,
      "outputs": [
        {
          "output_type": "execute_result",
          "data": {
            "text/plain": [
              "58.85729654164017"
            ]
          },
          "metadata": {
            "tags": []
          },
          "execution_count": 18
        }
      ]
    },
    {
      "cell_type": "markdown",
      "metadata": {
        "id": "lhJyNfbYT8qw",
        "colab_type": "text"
      },
      "source": [
        "## Valores máximos e mínimos\n",
        "\n",
        "Para calcular o valor máximo, basta executar o método `max()`, enquanto para o valor mínimo basta executar `min()`."
      ]
    },
    {
      "cell_type": "code",
      "metadata": {
        "id": "gUyA6i-KYrgU",
        "colab_type": "code",
        "outputId": "728bac2f-32a8-492c-a4e4-dd2e41c0c041",
        "colab": {
          "base_uri": "https://localhost:8080/",
          "height": 35
        }
      },
      "source": [
        "# valor máximo\n",
        "df.ride_duration.max()"
      ],
      "execution_count": 19,
      "outputs": [
        {
          "output_type": "execute_result",
          "data": {
            "text/plain": [
              "999.6"
            ]
          },
          "metadata": {
            "tags": []
          },
          "execution_count": 19
        }
      ]
    },
    {
      "cell_type": "code",
      "metadata": {
        "id": "3tVzhyThYyAU",
        "colab_type": "code",
        "outputId": "35734a8c-fb3a-4e3d-e7e5-db8946fc9ea9",
        "colab": {
          "base_uri": "https://localhost:8080/",
          "height": 35
        }
      },
      "source": [
        "# valor mínimo\n",
        "df.ride_duration.min()"
      ],
      "execution_count": 20,
      "outputs": [
        {
          "output_type": "execute_result",
          "data": {
            "text/plain": [
              "3.0"
            ]
          },
          "metadata": {
            "tags": []
          },
          "execution_count": 20
        }
      ]
    }
  ]
}